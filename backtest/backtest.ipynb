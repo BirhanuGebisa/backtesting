{
 "cells": [
  {
   "cell_type": "code",
   "execution_count": 29,
   "metadata": {},
   "outputs": [],
   "source": [
    "from __future__ import (absolute_import, division, print_function,\n",
    "                        unicode_literals)\n",
    "\n",
    "import yfinance as yf\n",
    "import pandas as pd\n",
    "import backtrader as bt\n",
    "from datetime import datetime\n",
    "import os"
   ]
  },
  {
   "cell_type": "code",
   "execution_count": 33,
   "metadata": {},
   "outputs": [],
   "source": [
    "def prepare_cerebro(currency,strategy,data_path,start_date:str,end_date:str=datetime.now(),cash:int=1000)->bt.Cerebro:\n",
    "    if end_date ==None:\n",
    "        end_date= datetime.strftime(datetime.now(),\"%Y-%m-%d\")\n",
    "\n",
    "    cerebro = bt.Cerebro()\n",
    "    cerebro.broker.setcash(cash)\n",
    "    cerebro.addstrategy(strategy)\n",
    "    \n",
    "    isExist = os.path.exists(data_path)\n",
    "    if not isExist:\n",
    "        data= yf.download(currency,start_date,end=end_date)\n",
    "        data.to_csv(data_path)\n",
    "    \n",
    "    data = bt.feeds.YahooFinanceCSVData(\n",
    "        dataname=data_path,\n",
    "        fromdate=datetime.strptime(start_date,\"%Y-%m-%d\"),\n",
    "        todate=datetime.strptime(end_date,\"%Y-%m-%d\"),\n",
    "        reverse=False\n",
    "    )\n",
    "\n",
    "    cerebro.adddata(data)\n",
    "    return cerebro\n",
    "\n"
   ]
  },
  {
   "cell_type": "code",
   "execution_count": null,
   "metadata": {},
   "outputs": [],
   "source": []
  }
 ],
 "metadata": {
  "kernelspec": {
   "display_name": "Python 3.10.5 ('.venv': venv)",
   "language": "python",
   "name": "python3"
  },
  "language_info": {
   "codemirror_mode": {
    "name": "ipython",
    "version": 3
   },
   "file_extension": ".py",
   "mimetype": "text/x-python",
   "name": "python",
   "nbconvert_exporter": "python",
   "pygments_lexer": "ipython3",
   "version": "3.10.5"
  },
  "orig_nbformat": 4,
  "vscode": {
   "interpreter": {
    "hash": "62d730189be7850889c790c83bea1794c3785291d8e0ba347762d67ce4cce373"
   }
  }
 },
 "nbformat": 4,
 "nbformat_minor": 2
}
