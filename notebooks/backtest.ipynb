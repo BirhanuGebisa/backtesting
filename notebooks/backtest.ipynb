{
 "cells": [
  {
   "cell_type": "code",
   "execution_count": 2,
   "metadata": {},
   "outputs": [],
   "source": [
    "from __future__ import (absolute_import, division, print_function,unicode_literals)\n",
    "\n",
    "import yfinance as yf\n",
    "import pandas as pd\n",
    "import backtrader as bt\n",
    "from datetime import datetime\n",
    "import os\n",
    "import sys"
   ]
  },
  {
   "cell_type": "code",
   "execution_count": 5,
   "metadata": {},
   "outputs": [],
   "source": [
    "# import strategies\n",
    "sys.path.append('../strategies/')\n",
    "import Test_strategy"
   ]
  },
  {
   "cell_type": "code",
   "execution_count": 3,
   "metadata": {},
   "outputs": [],
   "source": [
    "def prepare_cerebro(currency,strategy,data_path,start_date:str,end_date:str=datetime.now(),cash:int=100,commission:float=0)->bt.Cerebro:\n",
    "    if end_date ==None:\n",
    "        end_date= datetime.strftime(datetime.now(),\"%Y-%m-%d\")\n",
    "\n",
    "    cerebro = bt.Cerebro()\n",
    "    cerebro.broker.setcash(cash)\n",
    "    cerebro.broker.setcommission(commission=commission)\n",
    "    cerebro.addstrategy(strategy)\n",
    "    \n",
    "    isExist = os.path.exists(data_path)\n",
    "    if not isExist:\n",
    "        data= yf.download(currency,start_date,end=end_date)\n",
    "        data.to_csv(data_path)\n",
    "    \n",
    "    data = bt.feeds.YahooFinanceCSVData(\n",
    "        dataname=data_path,\n",
    "        fromdate=datetime.strptime(start_date,\"%Y-%m-%d\"),\n",
    "        todate=datetime.strptime(end_date,\"%Y-%m-%d\"),\n",
    "        reverse=False\n",
    "    )\n",
    "\n",
    "    cerebro.adddata(data)\n",
    "    return cerebro"
   ]
  },
  {
   "cell_type": "code",
   "execution_count": 4,
   "metadata": {},
   "outputs": [],
   "source": [
    "def run_test(cerebro:bt.Cerebro):\n",
    "    \n",
    "    print('Starting Portfolio Value: %.2f' % cerebro.broker.getvalue())\n",
    "\n",
    "    cerebro.run()\n",
    "\n",
    "    print('Final Portfolio Value: %.2f' % cerebro.broker.getvalue())"
   ]
  },
  {
   "cell_type": "code",
   "execution_count": 9,
   "metadata": {},
   "outputs": [
    {
     "ename": "TypeError",
     "evalue": "prepare_cerebro() missing 4 required positional arguments: 'currency', 'strategy', 'data_path', and 'start_date'",
     "output_type": "error",
     "traceback": [
      "\u001b[1;31m---------------------------------------------------------------------------\u001b[0m",
      "\u001b[1;31mTypeError\u001b[0m                                 Traceback (most recent call last)",
      "Cell \u001b[1;32mIn [9], line 1\u001b[0m\n\u001b[1;32m----> 1\u001b[0m prepare_cerebro()\n",
      "\u001b[1;31mTypeError\u001b[0m: prepare_cerebro() missing 4 required positional arguments: 'currency', 'strategy', 'data_path', and 'start_date'"
     ]
    }
   ],
   "source": [
    "prepare_cerebro()"
   ]
  },
  {
   "cell_type": "code",
   "execution_count": 8,
   "metadata": {},
   "outputs": [
    {
     "name": "stdout",
     "output_type": "stream",
     "text": [
      "Starting Portfolio Value: 1000.00\n"
     ]
    },
    {
     "ename": "TypeError",
     "evalue": "'module' object is not callable",
     "output_type": "error",
     "traceback": [
      "\u001b[1;31m---------------------------------------------------------------------------\u001b[0m",
      "\u001b[1;31mTypeError\u001b[0m                                 Traceback (most recent call last)",
      "Cell \u001b[1;32mIn [8], line 2\u001b[0m\n\u001b[0;32m      1\u001b[0m cerebro\u001b[39m=\u001b[39mprepare_cerebro(\u001b[39m'\u001b[39m\u001b[39mBTC\u001b[39m\u001b[39m'\u001b[39m,Test_strategy,\u001b[39m\"\u001b[39m\u001b[39mbtc.csv\u001b[39m\u001b[39m\"\u001b[39m,\u001b[39m\"\u001b[39m\u001b[39m2021-10-01\u001b[39m\u001b[39m\"\u001b[39m,\u001b[39m\"\u001b[39m\u001b[39m2021-10-19\u001b[39m\u001b[39m\"\u001b[39m)\n\u001b[1;32m----> 2\u001b[0m run_test(cerebro)\n",
      "Cell \u001b[1;32mIn [4], line 5\u001b[0m, in \u001b[0;36mrun_test\u001b[1;34m(cerebro)\u001b[0m\n\u001b[0;32m      1\u001b[0m \u001b[39mdef\u001b[39;00m \u001b[39mrun_test\u001b[39m(cerebro:bt\u001b[39m.\u001b[39mCerebro):\n\u001b[0;32m      3\u001b[0m     \u001b[39mprint\u001b[39m(\u001b[39m'\u001b[39m\u001b[39mStarting Portfolio Value: \u001b[39m\u001b[39m%.2f\u001b[39;00m\u001b[39m'\u001b[39m \u001b[39m%\u001b[39m cerebro\u001b[39m.\u001b[39mbroker\u001b[39m.\u001b[39mgetvalue())\n\u001b[1;32m----> 5\u001b[0m     cerebro\u001b[39m.\u001b[39;49mrun()\n\u001b[0;32m      7\u001b[0m     \u001b[39mprint\u001b[39m(\u001b[39m'\u001b[39m\u001b[39mFinal Portfolio Value: \u001b[39m\u001b[39m%.2f\u001b[39;00m\u001b[39m'\u001b[39m \u001b[39m%\u001b[39m cerebro\u001b[39m.\u001b[39mbroker\u001b[39m.\u001b[39mgetvalue())\n",
      "File \u001b[1;32md:\\Projects\\Personal\\python\\10 Academy\\Week 8\\.venv\\lib\\site-packages\\backtrader\\cerebro.py:1127\u001b[0m, in \u001b[0;36mCerebro.run\u001b[1;34m(self, **kwargs)\u001b[0m\n\u001b[0;32m   1123\u001b[0m \u001b[39mif\u001b[39;00m \u001b[39mnot\u001b[39;00m \u001b[39mself\u001b[39m\u001b[39m.\u001b[39m_dooptimize \u001b[39mor\u001b[39;00m \u001b[39mself\u001b[39m\u001b[39m.\u001b[39mp\u001b[39m.\u001b[39mmaxcpus \u001b[39m==\u001b[39m \u001b[39m1\u001b[39m:\n\u001b[0;32m   1124\u001b[0m     \u001b[39m# If no optimmization is wished ... or 1 core is to be used\u001b[39;00m\n\u001b[0;32m   1125\u001b[0m     \u001b[39m# let's skip process \"spawning\"\u001b[39;00m\n\u001b[0;32m   1126\u001b[0m     \u001b[39mfor\u001b[39;00m iterstrat \u001b[39min\u001b[39;00m iterstrats:\n\u001b[1;32m-> 1127\u001b[0m         runstrat \u001b[39m=\u001b[39m \u001b[39mself\u001b[39;49m\u001b[39m.\u001b[39;49mrunstrategies(iterstrat)\n\u001b[0;32m   1128\u001b[0m         \u001b[39mself\u001b[39m\u001b[39m.\u001b[39mrunstrats\u001b[39m.\u001b[39mappend(runstrat)\n\u001b[0;32m   1129\u001b[0m         \u001b[39mif\u001b[39;00m \u001b[39mself\u001b[39m\u001b[39m.\u001b[39m_dooptimize:\n",
      "File \u001b[1;32md:\\Projects\\Personal\\python\\10 Academy\\Week 8\\.venv\\lib\\site-packages\\backtrader\\cerebro.py:1217\u001b[0m, in \u001b[0;36mCerebro.runstrategies\u001b[1;34m(self, iterstrat, predata)\u001b[0m\n\u001b[0;32m   1215\u001b[0m sargs \u001b[39m=\u001b[39m \u001b[39mself\u001b[39m\u001b[39m.\u001b[39mdatas \u001b[39m+\u001b[39m \u001b[39mlist\u001b[39m(sargs)\n\u001b[0;32m   1216\u001b[0m \u001b[39mtry\u001b[39;00m:\n\u001b[1;32m-> 1217\u001b[0m     strat \u001b[39m=\u001b[39m stratcls(\u001b[39m*\u001b[39msargs, \u001b[39m*\u001b[39m\u001b[39m*\u001b[39mskwargs)\n\u001b[0;32m   1218\u001b[0m \u001b[39mexcept\u001b[39;00m bt\u001b[39m.\u001b[39merrors\u001b[39m.\u001b[39mStrategySkipError:\n\u001b[0;32m   1219\u001b[0m     \u001b[39mcontinue\u001b[39;00m  \u001b[39m# do not add strategy to the mix\u001b[39;00m\n",
      "\u001b[1;31mTypeError\u001b[0m: 'module' object is not callable"
     ]
    }
   ],
   "source": [
    "cerebro=prepare_cerebro('BTC',Test_strategy,\"btc.csv\",\"2021-10-01\",\"2021-10-19\")\n",
    "run_test(cerebro)"
   ]
  }
 ],
 "metadata": {
  "kernelspec": {
   "display_name": "Python 3.10.5 ('.venv': venv)",
   "language": "python",
   "name": "python3"
  },
  "language_info": {
   "codemirror_mode": {
    "name": "ipython",
    "version": 3
   },
   "file_extension": ".py",
   "mimetype": "text/x-python",
   "name": "python",
   "nbconvert_exporter": "python",
   "pygments_lexer": "ipython3",
   "version": "3.10.5"
  },
  "orig_nbformat": 4,
  "vscode": {
   "interpreter": {
    "hash": "62d730189be7850889c790c83bea1794c3785291d8e0ba347762d67ce4cce373"
   }
  }
 },
 "nbformat": 4,
 "nbformat_minor": 2
}
