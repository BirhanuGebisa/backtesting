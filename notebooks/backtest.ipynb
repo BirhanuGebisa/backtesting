{
 "cells": [
  {
   "cell_type": "code",
   "execution_count": 6,
   "metadata": {},
   "outputs": [],
   "source": [
    "from __future__ import (absolute_import, division, print_function,unicode_literals)\n",
    "\n",
    "import yfinance as yf\n",
    "import pandas as pd\n",
    "import backtrader as bt\n",
    "from datetime import datetime\n",
    "import os\n",
    "import sys\n",
    "import json\n",
    "from backtrader.analyzers import Returns,DrawDown,SharpeRatio,TradeAnalyzer"
   ]
  },
  {
   "cell_type": "code",
   "execution_count": 2,
   "metadata": {},
   "outputs": [],
   "source": [
    "# import strategies\n",
    "sys.path.append('../strategies/')\n",
    "from  Test_strategy import TestStrategy\n",
    "from sma import SMA\n",
    "from sma_rsi import SMA_RSI"
   ]
  },
  {
   "cell_type": "code",
   "execution_count": 3,
   "metadata": {},
   "outputs": [],
   "source": [
    "def prepare_cerebro(asset,strategy,data_path,start_date:str,end_date:str=datetime.now(),cash:int=100,commission:float=0)->bt.Cerebro:\n",
    "    if end_date ==None:\n",
    "        end_date= datetime.strftime(datetime.now(),\"%Y-%m-%d\")\n",
    "\n",
    "    cerebro = bt.Cerebro()\n",
    "    cerebro.broker.setcash(cash)\n",
    "    cerebro.broker.setcommission(commission=commission)\n",
    "    cerebro.addstrategy(strategy)\n",
    "    \n",
    "    isExist = os.path.exists(data_path)\n",
    "    if not isExist:\n",
    "        data= yf.download(asset,start_date,end=end_date)\n",
    "        data.to_csv(data_path)\n",
    "    \n",
    "    data = bt.feeds.YahooFinanceCSVData(\n",
    "        dataname=data_path,\n",
    "        fromdate=datetime.strptime(start_date,\"%Y-%m-%d\"),\n",
    "        todate=datetime.strptime(end_date,\"%Y-%m-%d\"),\n",
    "        reverse=False\n",
    "    )\n",
    "\n",
    "    cerebro.adddata(data)\n",
    "    # cerebro.addanalyzer(AnnualReturn)\n",
    "    cerebro.addanalyzer(TradeAnalyzer)\n",
    "    return cerebro"
   ]
  },
  {
   "cell_type": "code",
   "execution_count": 4,
   "metadata": {},
   "outputs": [],
   "source": [
    "def run_test(cerebro:bt.Cerebro):\n",
    "    \n",
    "    print('Starting Portfolio Value: %.2f' % cerebro.broker.getvalue())\n",
    "\n",
    "    res=cerebro.run()\n",
    "\n",
    "    print('Final Portfolio Value: %.2f' % cerebro.broker.getvalue())\n",
    "\n",
    "    return res"
   ]
  },
  {
   "cell_type": "code",
   "execution_count": 17,
   "metadata": {},
   "outputs": [
    {
     "name": "stdout",
     "output_type": "stream",
     "text": [
      "Starting Portfolio Value: 100.00\n",
      "Final Portfolio Value: 98.09\n",
      "Sharpe Ratio: -3.119131412713244\n",
      "Return: -0.019284761411866646\n",
      "max draw: 2.8770532603284797\n",
      "win trade: 7\n",
      "loss trade: 8\n",
      "number trade: 15\n"
     ]
    }
   ],
   "source": [
    "cerebro=prepare_cerebro('BTC',SMA,\"btc.csv\",\"2021-10-01\",\"2022-10-19\")\n",
    "# Analyzer\n",
    "cerebro.addanalyzer(SharpeRatio, _name='sharpe')\n",
    "cerebro.addanalyzer(Returns, _name='returns')\n",
    "cerebro.addanalyzer(DrawDown, _name='draw')\n",
    "cerebro.addanalyzer(TradeAnalyzer, _name='trade')\n",
    "thestrats=run_test(cerebro)\n",
    "thestrat = thestrats[0]\n",
    "\n",
    "sharpe=thestrat.analyzers.sharpe.get_analysis()\n",
    "print('Sharpe Ratio:',sharpe['sharperatio'] )\n",
    "\n",
    "return_val=thestrat.analyzers.returns.get_analysis()\n",
    "print('Return:', return_val['rtot'])\n",
    "\n",
    "drawdown=thestrat.analyzers.draw.get_analysis()\n",
    "print('max draw:', drawdown['max']['drawdown'])\n",
    "\n",
    "trade=thestrat.analyzers.trade.get_analysis()\n",
    "print('win trade:', trade['won']['total'])\n",
    "print('loss trade:', trade['lost']['total'])\n",
    "print('number trade:', trade['total']['total'])\n",
    "\n",
    "# print(json.dumps(thestrat.analyzers.trade.get_analysis(),indent=4))\n",
    "# print(json.dumps(parsed, indent=4))"
   ]
  },
  {
   "cell_type": "code",
   "execution_count": null,
   "metadata": {},
   "outputs": [],
   "source": [
    "cerebro.addwriter(bt.WriterFile, csv=\"-wcsv\", rounding=4)"
   ]
  },
  {
   "cell_type": "code",
   "execution_count": null,
   "metadata": {},
   "outputs": [],
   "source": [
    "cerebro=prepare_cerebro('BTC',SMA,\"btc.csv\",\"2021-10-01\",\"2022-10-19\")\n",
    "run_test(cerebro)"
   ]
  },
  {
   "cell_type": "code",
   "execution_count": null,
   "metadata": {},
   "outputs": [],
   "source": [
    "cerebro=prepare_cerebro('BTC',SMA,\"btc.csv\",\"2021-10-01\",\"2022-10-19\")\n",
    "run_test(cerebro)"
   ]
  }
 ],
 "metadata": {
  "kernelspec": {
   "display_name": "Python 3.10.5 ('.venv': venv)",
   "language": "python",
   "name": "python3"
  },
  "language_info": {
   "codemirror_mode": {
    "name": "ipython",
    "version": 3
   },
   "file_extension": ".py",
   "mimetype": "text/x-python",
   "name": "python",
   "nbconvert_exporter": "python",
   "pygments_lexer": "ipython3",
   "version": "3.10.5"
  },
  "orig_nbformat": 4,
  "vscode": {
   "interpreter": {
    "hash": "62d730189be7850889c790c83bea1794c3785291d8e0ba347762d67ce4cce373"
   }
  }
 },
 "nbformat": 4,
 "nbformat_minor": 2
}
