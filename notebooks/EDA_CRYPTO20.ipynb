{
 "cells": [
  {
   "cell_type": "code",
   "execution_count": 2,
   "metadata": {},
   "outputs": [],
   "source": [
    "import pandas as pd\n",
    "import dvc.api as DvcApi"
   ]
  },
  {
   "cell_type": "code",
   "execution_count": 3,
   "metadata": {},
   "outputs": [],
   "source": [
    "import sys, os\n",
    "\n",
    "#sys.path.append(os.path.abspath(os.path.join(\"../..\")))\n",
    "#sys.path.append(os.path.abspath(os.path.join(\"../scripts\")))"
   ]
  },
  {
   "cell_type": "markdown",
   "metadata": {},
   "source": [
    "# EDA of CRYPTO20 Data"
   ]
  },
  {
   "cell_type": "markdown",
   "metadata": {},
   "source": [
    "In this notebook we will examine price data of CRYPTO20 (C20), the first cryptocurrency tokenized index fund, its holdings consists of top twenty cryptocurrencies by market capitalization [source](https://www.coinbase.com/price/c20)\n",
    "\n",
    "The data spans the period of Oct 2018 - Oct 2022."
   ]
  },
  {
   "cell_type": "markdown",
   "metadata": {},
   "source": [
    "## Import the data"
   ]
  },
  {
   "cell_type": "code",
   "execution_count": 4,
   "metadata": {},
   "outputs": [],
   "source": [
    "path = \"data/C20-USD.csv\"\n",
    "repo = \"../\"\n",
    "version = \"eo-v1\"\n",
    "remote = \"eo-remote\"\n",
    "\n",
    "data_url = DvcApi.get_url(path = path, repo = repo, rev = version,remote= remote) \n",
    "data = pd.read_csv(data_url)"
   ]
  },
  {
   "cell_type": "code",
   "execution_count": 5,
   "metadata": {},
   "outputs": [
    {
     "data": {
      "text/html": [
       "<div>\n",
       "<style scoped>\n",
       "    .dataframe tbody tr th:only-of-type {\n",
       "        vertical-align: middle;\n",
       "    }\n",
       "\n",
       "    .dataframe tbody tr th {\n",
       "        vertical-align: top;\n",
       "    }\n",
       "\n",
       "    .dataframe thead th {\n",
       "        text-align: right;\n",
       "    }\n",
       "</style>\n",
       "<table border=\"1\" class=\"dataframe\">\n",
       "  <thead>\n",
       "    <tr style=\"text-align: right;\">\n",
       "      <th></th>\n",
       "      <th>Date</th>\n",
       "      <th>Open</th>\n",
       "      <th>High</th>\n",
       "      <th>Low</th>\n",
       "      <th>Close</th>\n",
       "      <th>Adj Close</th>\n",
       "      <th>Volume</th>\n",
       "    </tr>\n",
       "  </thead>\n",
       "  <tbody>\n",
       "    <tr>\n",
       "      <th>0</th>\n",
       "      <td>2018-10-10</td>\n",
       "      <td>0.725548</td>\n",
       "      <td>0.729690</td>\n",
       "      <td>0.708040</td>\n",
       "      <td>0.712510</td>\n",
       "      <td>0.712510</td>\n",
       "      <td>31873</td>\n",
       "    </tr>\n",
       "    <tr>\n",
       "      <th>1</th>\n",
       "      <td>2018-10-11</td>\n",
       "      <td>0.711248</td>\n",
       "      <td>0.711248</td>\n",
       "      <td>0.619986</td>\n",
       "      <td>0.622455</td>\n",
       "      <td>0.622455</td>\n",
       "      <td>55278</td>\n",
       "    </tr>\n",
       "    <tr>\n",
       "      <th>2</th>\n",
       "      <td>2018-10-12</td>\n",
       "      <td>0.618801</td>\n",
       "      <td>0.672244</td>\n",
       "      <td>0.617217</td>\n",
       "      <td>0.644308</td>\n",
       "      <td>0.644308</td>\n",
       "      <td>31363</td>\n",
       "    </tr>\n",
       "  </tbody>\n",
       "</table>\n",
       "</div>"
      ],
      "text/plain": [
       "         Date      Open      High       Low     Close  Adj Close  Volume\n",
       "0  2018-10-10  0.725548  0.729690  0.708040  0.712510   0.712510   31873\n",
       "1  2018-10-11  0.711248  0.711248  0.619986  0.622455   0.622455   55278\n",
       "2  2018-10-12  0.618801  0.672244  0.617217  0.644308   0.644308   31363"
      ]
     },
     "execution_count": 5,
     "metadata": {},
     "output_type": "execute_result"
    }
   ],
   "source": [
    "data.head(3)"
   ]
  },
  {
   "cell_type": "code",
   "execution_count": null,
   "metadata": {},
   "outputs": [],
   "source": []
  }
 ],
 "metadata": {
  "kernelspec": {
   "display_name": "Python 3.8.10 ('env': venv)",
   "language": "python",
   "name": "python3"
  },
  "language_info": {
   "codemirror_mode": {
    "name": "ipython",
    "version": 3
   },
   "file_extension": ".py",
   "mimetype": "text/x-python",
   "name": "python",
   "nbconvert_exporter": "python",
   "pygments_lexer": "ipython3",
   "version": "3.8.10"
  },
  "orig_nbformat": 4,
  "vscode": {
   "interpreter": {
    "hash": "ec7a475f827102f4292ab6c99c68275a20490c290d0a4a09a4976ae96cb79661"
   }
  }
 },
 "nbformat": 4,
 "nbformat_minor": 2
}
