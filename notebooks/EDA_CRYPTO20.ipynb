{
 "cells": [
  {
   "cell_type": "code",
   "execution_count": null,
   "metadata": {},
   "outputs": [],
   "source": [
    "import pandas as pd\n",
    "import dvc.api as DvcApi"
   ]
  },
  {
   "cell_type": "code",
   "execution_count": null,
   "metadata": {},
   "outputs": [],
   "source": [
    "import sys, os\n",
    "\n",
    "#sys.path.append(os.path.abspath(os.path.join(\"../..\")))\n",
    "#sys.path.append(os.path.abspath(os.path.join(\"../scripts\")))"
   ]
  },
  {
   "cell_type": "markdown",
   "metadata": {},
   "source": [
    "# EDA of CRYPTO20 Data"
   ]
  },
  {
   "cell_type": "markdown",
   "metadata": {},
   "source": [
    "In this notebook we will examine price data of CRYPTO20 (C20), the first cryptocurrency tokenized index fund, its holdings consists of top twenty cryptocurrencies by market capitalization [source](https://www.coinbase.com/price/c20)\n",
    "\n",
    "The data spans the period of Oct 2018 - Oct 2022."
   ]
  },
  {
   "cell_type": "markdown",
   "metadata": {},
   "source": [
    "## Import the data"
   ]
  },
  {
   "cell_type": "code",
   "execution_count": null,
   "metadata": {},
   "outputs": [],
   "source": [
    "path = \"data/C20-USD.csv\"\n",
    "repo = \"../\"\n",
    "version = \"eo-v1\"\n",
    "remote = \"eo-remote\"\n",
    "\n",
    "data_url = DvcApi.get_url(path = path, repo = repo, rev = version,remote= remote) \n",
    "data = pd.read_csv(data_url)"
   ]
  }
 ],
 "metadata": {
  "language_info": {
   "name": "python"
  },
  "orig_nbformat": 4
 },
 "nbformat": 4,
 "nbformat_minor": 2
}
