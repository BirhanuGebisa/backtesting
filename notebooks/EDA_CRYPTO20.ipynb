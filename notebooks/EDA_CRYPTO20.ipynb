{
 "cells": [
  {
   "cell_type": "code",
   "execution_count": 2,
   "metadata": {},
   "outputs": [],
   "source": [
    "import pandas as pd\n",
    "import dvc.api as DvcApi"
   ]
  },
  {
   "cell_type": "code",
   "execution_count": 3,
   "metadata": {},
   "outputs": [],
   "source": [
    "import sys, os\n",
    "\n",
    "#sys.path.append(os.path.abspath(os.path.join(\"../..\")))\n",
    "#sys.path.append(os.path.abspath(os.path.join(\"../scripts\")))"
   ]
  },
  {
   "cell_type": "markdown",
   "metadata": {},
   "source": [
    "# EDA of CRYPTO20 Data"
   ]
  },
  {
   "cell_type": "markdown",
   "metadata": {},
   "source": [
    "In this notebook we will examine price data of CRYPTO20 (C20), the first cryptocurrency tokenized index fund, its holdings consists of top twenty cryptocurrencies by market capitalization [source](https://www.coinbase.com/price/c20)\n",
    "\n",
    "The data spans the period of Oct 2018 - Oct 2022."
   ]
  },
  {
   "cell_type": "markdown",
   "metadata": {},
   "source": [
    "## Import the data"
   ]
  },
  {
   "cell_type": "code",
   "execution_count": 4,
   "metadata": {},
   "outputs": [],
   "source": [
    "path = \"data/C20-USD.csv\"\n",
    "repo = \"../\"\n",
    "version = \"eo-v1\"\n",
    "remote = \"eo-remote\"\n",
    "\n",
    "data_url = DvcApi.get_url(path = path, repo = repo, rev = version,remote= remote) \n",
    "data = pd.read_csv(data_url)"
   ]
  },
  {
   "cell_type": "code",
   "execution_count": 5,
   "metadata": {},
   "outputs": [
    {
     "data": {
      "text/html": [
       "<div>\n",
       "<style scoped>\n",
       "    .dataframe tbody tr th:only-of-type {\n",
       "        vertical-align: middle;\n",
       "    }\n",
       "\n",
       "    .dataframe tbody tr th {\n",
       "        vertical-align: top;\n",
       "    }\n",
       "\n",
       "    .dataframe thead th {\n",
       "        text-align: right;\n",
       "    }\n",
       "</style>\n",
       "<table border=\"1\" class=\"dataframe\">\n",
       "  <thead>\n",
       "    <tr style=\"text-align: right;\">\n",
       "      <th></th>\n",
       "      <th>Date</th>\n",
       "      <th>Open</th>\n",
       "      <th>High</th>\n",
       "      <th>Low</th>\n",
       "      <th>Close</th>\n",
       "      <th>Adj Close</th>\n",
       "      <th>Volume</th>\n",
       "    </tr>\n",
       "  </thead>\n",
       "  <tbody>\n",
       "    <tr>\n",
       "      <th>0</th>\n",
       "      <td>2018-10-10</td>\n",
       "      <td>0.725548</td>\n",
       "      <td>0.729690</td>\n",
       "      <td>0.708040</td>\n",
       "      <td>0.712510</td>\n",
       "      <td>0.712510</td>\n",
       "      <td>31873</td>\n",
       "    </tr>\n",
       "    <tr>\n",
       "      <th>1</th>\n",
       "      <td>2018-10-11</td>\n",
       "      <td>0.711248</td>\n",
       "      <td>0.711248</td>\n",
       "      <td>0.619986</td>\n",
       "      <td>0.622455</td>\n",
       "      <td>0.622455</td>\n",
       "      <td>55278</td>\n",
       "    </tr>\n",
       "    <tr>\n",
       "      <th>2</th>\n",
       "      <td>2018-10-12</td>\n",
       "      <td>0.618801</td>\n",
       "      <td>0.672244</td>\n",
       "      <td>0.617217</td>\n",
       "      <td>0.644308</td>\n",
       "      <td>0.644308</td>\n",
       "      <td>31363</td>\n",
       "    </tr>\n",
       "  </tbody>\n",
       "</table>\n",
       "</div>"
      ],
      "text/plain": [
       "         Date      Open      High       Low     Close  Adj Close  Volume\n",
       "0  2018-10-10  0.725548  0.729690  0.708040  0.712510   0.712510   31873\n",
       "1  2018-10-11  0.711248  0.711248  0.619986  0.622455   0.622455   55278\n",
       "2  2018-10-12  0.618801  0.672244  0.617217  0.644308   0.644308   31363"
      ]
     },
     "execution_count": 5,
     "metadata": {},
     "output_type": "execute_result"
    }
   ],
   "source": [
    "data.head(3)"
   ]
  },
  {
   "cell_type": "markdown",
   "metadata": {},
   "source": [
    "## General Description of the data"
   ]
  },
  {
   "cell_type": "code",
   "execution_count": 6,
   "metadata": {},
   "outputs": [
    {
     "name": "stdout",
     "output_type": "stream",
     "text": [
      "the data has 1462 rows and 7 columns\n"
     ]
    }
   ],
   "source": [
    "print(\"the data has {} rows and {} columns\".format(data.shape[0], data.shape[1]))"
   ]
  },
  {
   "cell_type": "code",
   "execution_count": 7,
   "metadata": {},
   "outputs": [
    {
     "data": {
      "text/html": [
       "<div>\n",
       "<style scoped>\n",
       "    .dataframe tbody tr th:only-of-type {\n",
       "        vertical-align: middle;\n",
       "    }\n",
       "\n",
       "    .dataframe tbody tr th {\n",
       "        vertical-align: top;\n",
       "    }\n",
       "\n",
       "    .dataframe thead th {\n",
       "        text-align: right;\n",
       "    }\n",
       "</style>\n",
       "<table border=\"1\" class=\"dataframe\">\n",
       "  <thead>\n",
       "    <tr style=\"text-align: right;\">\n",
       "      <th></th>\n",
       "      <th>Open</th>\n",
       "      <th>High</th>\n",
       "      <th>Low</th>\n",
       "      <th>Close</th>\n",
       "      <th>Adj Close</th>\n",
       "      <th>Volume</th>\n",
       "    </tr>\n",
       "  </thead>\n",
       "  <tbody>\n",
       "    <tr>\n",
       "      <th>count</th>\n",
       "      <td>1462.000000</td>\n",
       "      <td>1462.000000</td>\n",
       "      <td>1462.000000</td>\n",
       "      <td>1462.000000</td>\n",
       "      <td>1462.000000</td>\n",
       "      <td>1462.000000</td>\n",
       "    </tr>\n",
       "    <tr>\n",
       "      <th>mean</th>\n",
       "      <td>1.444363</td>\n",
       "      <td>1.537249</td>\n",
       "      <td>1.365511</td>\n",
       "      <td>1.443887</td>\n",
       "      <td>1.443887</td>\n",
       "      <td>38945.459644</td>\n",
       "    </tr>\n",
       "    <tr>\n",
       "      <th>std</th>\n",
       "      <td>1.625964</td>\n",
       "      <td>1.981061</td>\n",
       "      <td>1.551719</td>\n",
       "      <td>1.626336</td>\n",
       "      <td>1.626336</td>\n",
       "      <td>73578.091689</td>\n",
       "    </tr>\n",
       "    <tr>\n",
       "      <th>min</th>\n",
       "      <td>0.000000</td>\n",
       "      <td>0.003782</td>\n",
       "      <td>0.000000</td>\n",
       "      <td>0.000000</td>\n",
       "      <td>0.000000</td>\n",
       "      <td>1.000000</td>\n",
       "    </tr>\n",
       "    <tr>\n",
       "      <th>25%</th>\n",
       "      <td>0.405283</td>\n",
       "      <td>0.420700</td>\n",
       "      <td>0.389150</td>\n",
       "      <td>0.405052</td>\n",
       "      <td>0.405052</td>\n",
       "      <td>1558.750000</td>\n",
       "    </tr>\n",
       "    <tr>\n",
       "      <th>50%</th>\n",
       "      <td>0.610245</td>\n",
       "      <td>0.638700</td>\n",
       "      <td>0.566454</td>\n",
       "      <td>0.609630</td>\n",
       "      <td>0.609630</td>\n",
       "      <td>8304.500000</td>\n",
       "    </tr>\n",
       "    <tr>\n",
       "      <th>75%</th>\n",
       "      <td>2.819606</td>\n",
       "      <td>2.930616</td>\n",
       "      <td>2.556317</td>\n",
       "      <td>2.817364</td>\n",
       "      <td>2.817364</td>\n",
       "      <td>40731.500000</td>\n",
       "    </tr>\n",
       "    <tr>\n",
       "      <th>max</th>\n",
       "      <td>6.349537</td>\n",
       "      <td>40.698662</td>\n",
       "      <td>5.873050</td>\n",
       "      <td>6.341028</td>\n",
       "      <td>6.341028</td>\n",
       "      <td>614381.000000</td>\n",
       "    </tr>\n",
       "  </tbody>\n",
       "</table>\n",
       "</div>"
      ],
      "text/plain": [
       "              Open         High          Low        Close    Adj Close  \\\n",
       "count  1462.000000  1462.000000  1462.000000  1462.000000  1462.000000   \n",
       "mean      1.444363     1.537249     1.365511     1.443887     1.443887   \n",
       "std       1.625964     1.981061     1.551719     1.626336     1.626336   \n",
       "min       0.000000     0.003782     0.000000     0.000000     0.000000   \n",
       "25%       0.405283     0.420700     0.389150     0.405052     0.405052   \n",
       "50%       0.610245     0.638700     0.566454     0.609630     0.609630   \n",
       "75%       2.819606     2.930616     2.556317     2.817364     2.817364   \n",
       "max       6.349537    40.698662     5.873050     6.341028     6.341028   \n",
       "\n",
       "              Volume  \n",
       "count    1462.000000  \n",
       "mean    38945.459644  \n",
       "std     73578.091689  \n",
       "min         1.000000  \n",
       "25%      1558.750000  \n",
       "50%      8304.500000  \n",
       "75%     40731.500000  \n",
       "max    614381.000000  "
      ]
     },
     "execution_count": 7,
     "metadata": {},
     "output_type": "execute_result"
    }
   ],
   "source": [
    "# statistical summary of the data\n",
    "data.describe()"
   ]
  },
  {
   "cell_type": "code",
   "execution_count": 8,
   "metadata": {},
   "outputs": [
    {
     "data": {
      "text/plain": [
       "Date         0\n",
       "Open         0\n",
       "High         0\n",
       "Low          0\n",
       "Close        0\n",
       "Adj Close    0\n",
       "Volume       0\n",
       "dtype: int64"
      ]
     },
     "execution_count": 8,
     "metadata": {},
     "output_type": "execute_result"
    }
   ],
   "source": [
    "# missing data\n",
    "data.isna().sum()"
   ]
  },
  {
   "cell_type": "code",
   "execution_count": 17,
   "metadata": {},
   "outputs": [
    {
     "name": "stdout",
     "output_type": "stream",
     "text": [
      "data is collect for the period from 2018-10-10 to 2022-10-10\n"
     ]
    }
   ],
   "source": [
    "start_date = data['Date'].min()\n",
    "end_date =  data['Date'].max()\n",
    "\n",
    "print(\"data is collect for the period from {} to {}\".format(start_date, end_date))"
   ]
  },
  {
   "cell_type": "code",
   "execution_count": 26,
   "metadata": {},
   "outputs": [
    {
     "name": "stdout",
     "output_type": "stream",
     "text": [
      "In the period of 1462, crypto trading was open in 1462 days.\n"
     ]
    }
   ],
   "source": [
    "# note that for crypto, there is trading everyday .. unlike regular stock market\n",
    "\n",
    "total_days = 1 + (pd.to_datetime(end_date) - pd.to_datetime(start_date)).days\n",
    "\n",
    "print(\"In the period of {}, crypto trading was open in {} days.\".format(total_days, data['Date'].nunique()))"
   ]
  }
 ],
 "metadata": {
  "kernelspec": {
   "display_name": "Python 3.8.10 ('env': venv)",
   "language": "python",
   "name": "python3"
  },
  "language_info": {
   "codemirror_mode": {
    "name": "ipython",
    "version": 3
   },
   "file_extension": ".py",
   "mimetype": "text/x-python",
   "name": "python",
   "nbconvert_exporter": "python",
   "pygments_lexer": "ipython3",
   "version": "3.8.10"
  },
  "orig_nbformat": 4,
  "vscode": {
   "interpreter": {
    "hash": "ec7a475f827102f4292ab6c99c68275a20490c290d0a4a09a4976ae96cb79661"
   }
  }
 },
 "nbformat": 4,
 "nbformat_minor": 2
}
