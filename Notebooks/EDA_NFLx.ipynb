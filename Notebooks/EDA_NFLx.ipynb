{
 "cells": [
  {
   "cell_type": "code",
   "execution_count": 1,
   "metadata": {},
   "outputs": [],
   "source": [
    "# lib\n",
    "import pandas as pd\n",
    "import matplotlib.pyplot as plt\n",
    "%matplotlib inline"
   ]
  },
  {
   "cell_type": "code",
   "execution_count": 2,
   "metadata": {},
   "outputs": [],
   "source": [
    "df_nfx = pd.read_csv('../data/NFLX.csv')"
   ]
  },
  {
   "cell_type": "code",
   "execution_count": 3,
   "metadata": {},
   "outputs": [
    {
     "data": {
      "text/html": [
       "<div>\n",
       "<style scoped>\n",
       "    .dataframe tbody tr th:only-of-type {\n",
       "        vertical-align: middle;\n",
       "    }\n",
       "\n",
       "    .dataframe tbody tr th {\n",
       "        vertical-align: top;\n",
       "    }\n",
       "\n",
       "    .dataframe thead th {\n",
       "        text-align: right;\n",
       "    }\n",
       "</style>\n",
       "<table border=\"1\" class=\"dataframe\">\n",
       "  <thead>\n",
       "    <tr style=\"text-align: right;\">\n",
       "      <th></th>\n",
       "      <th>Date</th>\n",
       "      <th>Open</th>\n",
       "      <th>High</th>\n",
       "      <th>Low</th>\n",
       "      <th>Close</th>\n",
       "      <th>Adj Close</th>\n",
       "      <th>Volume</th>\n",
       "    </tr>\n",
       "  </thead>\n",
       "  <tbody>\n",
       "    <tr>\n",
       "      <th>0</th>\n",
       "      <td>2021-10-11</td>\n",
       "      <td>633.200012</td>\n",
       "      <td>639.419983</td>\n",
       "      <td>626.780029</td>\n",
       "      <td>627.039978</td>\n",
       "      <td>627.039978</td>\n",
       "      <td>2862500</td>\n",
       "    </tr>\n",
       "    <tr>\n",
       "      <th>1</th>\n",
       "      <td>2021-10-12</td>\n",
       "      <td>633.020020</td>\n",
       "      <td>637.659973</td>\n",
       "      <td>621.989990</td>\n",
       "      <td>624.940002</td>\n",
       "      <td>624.940002</td>\n",
       "      <td>3227300</td>\n",
       "    </tr>\n",
       "    <tr>\n",
       "      <th>2</th>\n",
       "      <td>2021-10-13</td>\n",
       "      <td>632.179993</td>\n",
       "      <td>632.179993</td>\n",
       "      <td>622.099976</td>\n",
       "      <td>629.760010</td>\n",
       "      <td>629.760010</td>\n",
       "      <td>2420300</td>\n",
       "    </tr>\n",
       "    <tr>\n",
       "      <th>3</th>\n",
       "      <td>2021-10-14</td>\n",
       "      <td>632.229980</td>\n",
       "      <td>636.880005</td>\n",
       "      <td>626.789978</td>\n",
       "      <td>633.799988</td>\n",
       "      <td>633.799988</td>\n",
       "      <td>2671700</td>\n",
       "    </tr>\n",
       "    <tr>\n",
       "      <th>4</th>\n",
       "      <td>2021-10-15</td>\n",
       "      <td>638.000000</td>\n",
       "      <td>639.419983</td>\n",
       "      <td>625.159973</td>\n",
       "      <td>628.289978</td>\n",
       "      <td>628.289978</td>\n",
       "      <td>4116900</td>\n",
       "    </tr>\n",
       "  </tbody>\n",
       "</table>\n",
       "</div>"
      ],
      "text/plain": [
       "         Date        Open        High         Low       Close   Adj Close  \\\n",
       "0  2021-10-11  633.200012  639.419983  626.780029  627.039978  627.039978   \n",
       "1  2021-10-12  633.020020  637.659973  621.989990  624.940002  624.940002   \n",
       "2  2021-10-13  632.179993  632.179993  622.099976  629.760010  629.760010   \n",
       "3  2021-10-14  632.229980  636.880005  626.789978  633.799988  633.799988   \n",
       "4  2021-10-15  638.000000  639.419983  625.159973  628.289978  628.289978   \n",
       "\n",
       "    Volume  \n",
       "0  2862500  \n",
       "1  3227300  \n",
       "2  2420300  \n",
       "3  2671700  \n",
       "4  4116900  "
      ]
     },
     "execution_count": 3,
     "metadata": {},
     "output_type": "execute_result"
    }
   ],
   "source": [
    "df_nfx.head()"
   ]
  },
  {
   "cell_type": "code",
   "execution_count": 4,
   "metadata": {},
   "outputs": [
    {
     "data": {
      "text/plain": [
       "Date          object\n",
       "Open         float64\n",
       "High         float64\n",
       "Low          float64\n",
       "Close        float64\n",
       "Adj Close    float64\n",
       "Volume         int64\n",
       "dtype: object"
      ]
     },
     "execution_count": 4,
     "metadata": {},
     "output_type": "execute_result"
    }
   ],
   "source": [
    "df_nfx.dtypes"
   ]
  },
  {
   "cell_type": "code",
   "execution_count": 5,
   "metadata": {},
   "outputs": [
    {
     "data": {
      "text/plain": [
       "Date         0\n",
       "Open         0\n",
       "High         0\n",
       "Low          0\n",
       "Close        0\n",
       "Adj Close    0\n",
       "Volume       0\n",
       "dtype: int64"
      ]
     },
     "execution_count": 5,
     "metadata": {},
     "output_type": "execute_result"
    }
   ],
   "source": [
    "df_nfx.isna().sum()"
   ]
  },
  {
   "cell_type": "code",
   "execution_count": 7,
   "metadata": {},
   "outputs": [
    {
     "data": {
      "text/plain": [
       "(252, 7)"
      ]
     },
     "execution_count": 7,
     "metadata": {},
     "output_type": "execute_result"
    }
   ],
   "source": [
    "df_nfx.shape"
   ]
  },
  {
   "cell_type": "code",
   "execution_count": null,
   "metadata": {},
   "outputs": [],
   "source": [
    "# hist_df['Open Time'] = pd.to_datetime(hist_df['Open Time']/1000, unit='s')\n",
    "# hist_df['Close Time'] = pd.to_datetime(hist_df['Close Time']/1000, unit='s')"
   ]
  },
  {
   "cell_type": "code",
   "execution_count": 8,
   "metadata": {},
   "outputs": [
    {
     "data": {
      "text/html": [
       "<div>\n",
       "<style scoped>\n",
       "    .dataframe tbody tr th:only-of-type {\n",
       "        vertical-align: middle;\n",
       "    }\n",
       "\n",
       "    .dataframe tbody tr th {\n",
       "        vertical-align: top;\n",
       "    }\n",
       "\n",
       "    .dataframe thead th {\n",
       "        text-align: right;\n",
       "    }\n",
       "</style>\n",
       "<table border=\"1\" class=\"dataframe\">\n",
       "  <thead>\n",
       "    <tr style=\"text-align: right;\">\n",
       "      <th></th>\n",
       "      <th>Open</th>\n",
       "      <th>High</th>\n",
       "      <th>Low</th>\n",
       "      <th>Close</th>\n",
       "      <th>Adj Close</th>\n",
       "      <th>Volume</th>\n",
       "    </tr>\n",
       "  </thead>\n",
       "  <tbody>\n",
       "    <tr>\n",
       "      <th>count</th>\n",
       "      <td>252.000000</td>\n",
       "      <td>252.000000</td>\n",
       "      <td>252.000000</td>\n",
       "      <td>252.000000</td>\n",
       "      <td>252.000000</td>\n",
       "      <td>2.520000e+02</td>\n",
       "    </tr>\n",
       "    <tr>\n",
       "      <th>mean</th>\n",
       "      <td>367.219723</td>\n",
       "      <td>373.217817</td>\n",
       "      <td>359.798849</td>\n",
       "      <td>366.351548</td>\n",
       "      <td>366.351548</td>\n",
       "      <td>9.012981e+06</td>\n",
       "    </tr>\n",
       "    <tr>\n",
       "      <th>std</th>\n",
       "      <td>178.632236</td>\n",
       "      <td>179.121200</td>\n",
       "      <td>176.538554</td>\n",
       "      <td>177.474089</td>\n",
       "      <td>177.474089</td>\n",
       "      <td>1.095273e+07</td>\n",
       "    </tr>\n",
       "    <tr>\n",
       "      <th>min</th>\n",
       "      <td>163.960007</td>\n",
       "      <td>172.059998</td>\n",
       "      <td>162.710007</td>\n",
       "      <td>166.369995</td>\n",
       "      <td>166.369995</td>\n",
       "      <td>1.287200e+06</td>\n",
       "    </tr>\n",
       "    <tr>\n",
       "      <th>25%</th>\n",
       "      <td>219.030006</td>\n",
       "      <td>226.010002</td>\n",
       "      <td>211.610000</td>\n",
       "      <td>218.197502</td>\n",
       "      <td>218.197502</td>\n",
       "      <td>4.185975e+06</td>\n",
       "    </tr>\n",
       "    <tr>\n",
       "      <th>50%</th>\n",
       "      <td>349.000000</td>\n",
       "      <td>353.390000</td>\n",
       "      <td>340.335006</td>\n",
       "      <td>343.925003</td>\n",
       "      <td>343.925003</td>\n",
       "      <td>6.523800e+06</td>\n",
       "    </tr>\n",
       "    <tr>\n",
       "      <th>75%</th>\n",
       "      <td>545.567521</td>\n",
       "      <td>546.560013</td>\n",
       "      <td>533.570008</td>\n",
       "      <td>540.895020</td>\n",
       "      <td>540.895020</td>\n",
       "      <td>9.992575e+06</td>\n",
       "    </tr>\n",
       "    <tr>\n",
       "      <th>max</th>\n",
       "      <td>692.349976</td>\n",
       "      <td>700.989990</td>\n",
       "      <td>686.090027</td>\n",
       "      <td>691.690002</td>\n",
       "      <td>691.690002</td>\n",
       "      <td>1.333875e+08</td>\n",
       "    </tr>\n",
       "  </tbody>\n",
       "</table>\n",
       "</div>"
      ],
      "text/plain": [
       "             Open        High         Low       Close   Adj Close  \\\n",
       "count  252.000000  252.000000  252.000000  252.000000  252.000000   \n",
       "mean   367.219723  373.217817  359.798849  366.351548  366.351548   \n",
       "std    178.632236  179.121200  176.538554  177.474089  177.474089   \n",
       "min    163.960007  172.059998  162.710007  166.369995  166.369995   \n",
       "25%    219.030006  226.010002  211.610000  218.197502  218.197502   \n",
       "50%    349.000000  353.390000  340.335006  343.925003  343.925003   \n",
       "75%    545.567521  546.560013  533.570008  540.895020  540.895020   \n",
       "max    692.349976  700.989990  686.090027  691.690002  691.690002   \n",
       "\n",
       "             Volume  \n",
       "count  2.520000e+02  \n",
       "mean   9.012981e+06  \n",
       "std    1.095273e+07  \n",
       "min    1.287200e+06  \n",
       "25%    4.185975e+06  \n",
       "50%    6.523800e+06  \n",
       "75%    9.992575e+06  \n",
       "max    1.333875e+08  "
      ]
     },
     "execution_count": 8,
     "metadata": {},
     "output_type": "execute_result"
    }
   ],
   "source": [
    "df_nfx.describe()"
   ]
  },
  {
   "cell_type": "markdown",
   "metadata": {},
   "source": [
    "### Visualization "
   ]
  },
  {
   "cell_type": "code",
   "execution_count": 10,
   "metadata": {},
   "outputs": [],
   "source": [
    "import mplfinance as mpf"
   ]
  },
  {
   "cell_type": "code",
   "execution_count": 14,
   "metadata": {},
   "outputs": [
    {
     "data": {
      "text/html": [
       "<div>\n",
       "<style scoped>\n",
       "    .dataframe tbody tr th:only-of-type {\n",
       "        vertical-align: middle;\n",
       "    }\n",
       "\n",
       "    .dataframe tbody tr th {\n",
       "        vertical-align: top;\n",
       "    }\n",
       "\n",
       "    .dataframe thead th {\n",
       "        text-align: right;\n",
       "    }\n",
       "</style>\n",
       "<table border=\"1\" class=\"dataframe\">\n",
       "  <thead>\n",
       "    <tr style=\"text-align: right;\">\n",
       "      <th></th>\n",
       "      <th>Open</th>\n",
       "      <th>High</th>\n",
       "      <th>Low</th>\n",
       "      <th>Close</th>\n",
       "      <th>Adj Close</th>\n",
       "      <th>Volume</th>\n",
       "    </tr>\n",
       "    <tr>\n",
       "      <th>Date</th>\n",
       "      <th></th>\n",
       "      <th></th>\n",
       "      <th></th>\n",
       "      <th></th>\n",
       "      <th></th>\n",
       "      <th></th>\n",
       "    </tr>\n",
       "  </thead>\n",
       "  <tbody>\n",
       "    <tr>\n",
       "      <th>2022-05-18</th>\n",
       "      <td>186.720001</td>\n",
       "      <td>187.699997</td>\n",
       "      <td>176.270004</td>\n",
       "      <td>177.190002</td>\n",
       "      <td>177.190002</td>\n",
       "      <td>9665600</td>\n",
       "    </tr>\n",
       "    <tr>\n",
       "      <th>2022-05-19</th>\n",
       "      <td>178.050003</td>\n",
       "      <td>186.300003</td>\n",
       "      <td>175.710007</td>\n",
       "      <td>183.479996</td>\n",
       "      <td>183.479996</td>\n",
       "      <td>10448500</td>\n",
       "    </tr>\n",
       "    <tr>\n",
       "      <th>2022-05-20</th>\n",
       "      <td>185.869995</td>\n",
       "      <td>190.190002</td>\n",
       "      <td>179.770004</td>\n",
       "      <td>186.350006</td>\n",
       "      <td>186.350006</td>\n",
       "      <td>10429400</td>\n",
       "    </tr>\n",
       "    <tr>\n",
       "      <th>2022-05-23</th>\n",
       "      <td>186.149994</td>\n",
       "      <td>187.660004</td>\n",
       "      <td>177.889999</td>\n",
       "      <td>187.440002</td>\n",
       "      <td>187.440002</td>\n",
       "      <td>9602000</td>\n",
       "    </tr>\n",
       "    <tr>\n",
       "      <th>2022-05-24</th>\n",
       "      <td>182.000000</td>\n",
       "      <td>184.000000</td>\n",
       "      <td>177.169998</td>\n",
       "      <td>180.339996</td>\n",
       "      <td>180.339996</td>\n",
       "      <td>7706400</td>\n",
       "    </tr>\n",
       "    <tr>\n",
       "      <th>...</th>\n",
       "      <td>...</td>\n",
       "      <td>...</td>\n",
       "      <td>...</td>\n",
       "      <td>...</td>\n",
       "      <td>...</td>\n",
       "      <td>...</td>\n",
       "    </tr>\n",
       "    <tr>\n",
       "      <th>2022-10-04</th>\n",
       "      <td>244.839996</td>\n",
       "      <td>245.800003</td>\n",
       "      <td>233.250000</td>\n",
       "      <td>240.740005</td>\n",
       "      <td>240.740005</td>\n",
       "      <td>13925900</td>\n",
       "    </tr>\n",
       "    <tr>\n",
       "      <th>2022-10-05</th>\n",
       "      <td>238.759995</td>\n",
       "      <td>241.589996</td>\n",
       "      <td>227.380005</td>\n",
       "      <td>236.729996</td>\n",
       "      <td>236.729996</td>\n",
       "      <td>10825600</td>\n",
       "    </tr>\n",
       "    <tr>\n",
       "      <th>2022-10-06</th>\n",
       "      <td>236.679993</td>\n",
       "      <td>244.279999</td>\n",
       "      <td>233.910004</td>\n",
       "      <td>240.020004</td>\n",
       "      <td>240.020004</td>\n",
       "      <td>9188900</td>\n",
       "    </tr>\n",
       "    <tr>\n",
       "      <th>2022-10-07</th>\n",
       "      <td>235.770004</td>\n",
       "      <td>237.330002</td>\n",
       "      <td>224.279999</td>\n",
       "      <td>224.750000</td>\n",
       "      <td>224.750000</td>\n",
       "      <td>9784800</td>\n",
       "    </tr>\n",
       "    <tr>\n",
       "      <th>2022-10-10</th>\n",
       "      <td>225.639999</td>\n",
       "      <td>233.830002</td>\n",
       "      <td>224.229996</td>\n",
       "      <td>229.979996</td>\n",
       "      <td>229.979996</td>\n",
       "      <td>9984100</td>\n",
       "    </tr>\n",
       "  </tbody>\n",
       "</table>\n",
       "<p>100 rows × 6 columns</p>\n",
       "</div>"
      ],
      "text/plain": [
       "                  Open        High         Low       Close   Adj Close  \\\n",
       "Date                                                                     \n",
       "2022-05-18  186.720001  187.699997  176.270004  177.190002  177.190002   \n",
       "2022-05-19  178.050003  186.300003  175.710007  183.479996  183.479996   \n",
       "2022-05-20  185.869995  190.190002  179.770004  186.350006  186.350006   \n",
       "2022-05-23  186.149994  187.660004  177.889999  187.440002  187.440002   \n",
       "2022-05-24  182.000000  184.000000  177.169998  180.339996  180.339996   \n",
       "...                ...         ...         ...         ...         ...   \n",
       "2022-10-04  244.839996  245.800003  233.250000  240.740005  240.740005   \n",
       "2022-10-05  238.759995  241.589996  227.380005  236.729996  236.729996   \n",
       "2022-10-06  236.679993  244.279999  233.910004  240.020004  240.020004   \n",
       "2022-10-07  235.770004  237.330002  224.279999  224.750000  224.750000   \n",
       "2022-10-10  225.639999  233.830002  224.229996  229.979996  229.979996   \n",
       "\n",
       "              Volume  \n",
       "Date                  \n",
       "2022-05-18   9665600  \n",
       "2022-05-19  10448500  \n",
       "2022-05-20  10429400  \n",
       "2022-05-23   9602000  \n",
       "2022-05-24   7706400  \n",
       "...              ...  \n",
       "2022-10-04  13925900  \n",
       "2022-10-05  10825600  \n",
       "2022-10-06   9188900  \n",
       "2022-10-07   9784800  \n",
       "2022-10-10   9984100  \n",
       "\n",
       "[100 rows x 6 columns]"
      ]
     },
     "execution_count": 14,
     "metadata": {},
     "output_type": "execute_result"
    }
   ],
   "source": [
    "df_nfx.set_index('Date').tail(100)"
   ]
  },
  {
   "cell_type": "code",
   "execution_count": 16,
   "metadata": {},
   "outputs": [
    {
     "data": {
      "text/plain": [
       "dtype('O')"
      ]
     },
     "execution_count": 16,
     "metadata": {},
     "output_type": "execute_result"
    }
   ],
   "source": [
    "df_nfx.Date.dtype"
   ]
  },
  {
   "cell_type": "code",
   "execution_count": 17,
   "metadata": {},
   "outputs": [],
   "source": [
    "df_nfx['Date'] = pd.to_datetime(df_nfx['Date'])"
   ]
  },
  {
   "cell_type": "code",
   "execution_count": 18,
   "metadata": {},
   "outputs": [
    {
     "data": {
      "image/png": "[encoded data removed]",
      "text/plain": [
       "<Figure size 800x575 with 4 Axes>"
      ]
     },
     "metadata": {},
     "output_type": "display_data"
    }
   ],
   "source": [
    "mpf.plot(df_nfx.set_index('Date').tail(120), \n",
    "        type='candle', style='charles', \n",
    "        volume=True, \n",
    "        title='ETHBTC Last 120 Days', \n",
    "        mav=(10,20,30))"
   ]
  },
  {
   "cell_type": "code",
   "execution_count": null,
   "metadata": {},
   "outputs": [],
   "source": []
  },
  {
   "cell_type": "code",
   "execution_count": null,
   "metadata": {},
   "outputs": [],
   "source": []
  }
 ],
 "metadata": {
  "kernelspec": {
   "display_name": "Python 3.8.3 ('base')",
   "language": "python",
   "name": "python3"
  },
  "language_info": {
   "codemirror_mode": {
    "name": "ipython",
    "version": 3
   },
   "file_extension": ".py",
   "mimetype": "text/x-python",
   "name": "python",
   "nbconvert_exporter": "python",
   "pygments_lexer": "ipython3",
   "version": "3.8.3"
  },
  "orig_nbformat": 4,
  "vscode": {
   "interpreter": {
    "hash": "0b6ee45c0530d00bd9ce3b24e915dd77806354f7ba58bdfbe06eaf4782981504"
   }
  }
 },
 "nbformat": 4,
 "nbformat_minor": 2
}
